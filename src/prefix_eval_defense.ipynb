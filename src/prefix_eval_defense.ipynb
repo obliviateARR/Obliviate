{
 "cells": [
  {
   "cell_type": "code",
   "execution_count": 1,
   "id": "d824c318-93d3-410a-8a0b-253b4ea85c3b",
   "metadata": {},
   "outputs": [],
   "source": [
    "import sys\n",
    "import os\n",
    "from dotenv import load_dotenv\n",
    "\n",
    "load_dotenv(os.path.expanduser('~/.env'), verbose=True)\n",
    "\n",
    "data_dir = '../defense_data_ign'\n",
    "adapter_lib_path = '../'\n",
    "\n",
    "sys.path.insert(0, adapter_lib_path)"
   ]
  },
  {
   "cell_type": "code",
   "execution_count": 2,
   "id": "df7048f5-5b82-4fa6-8d3a-5ccde0de0180",
   "metadata": {},
   "outputs": [
    {
     "name": "stdout",
     "output_type": "stream",
     "text": [
      "cuda 0\n"
     ]
    }
   ],
   "source": [
    "os.environ[\"CUDA_VISIBLE_DEVICES\"] = '0'\n",
    "\n",
    "import json\n",
    "import random\n",
    "import numpy as np\n",
    "from tqdm import tqdm\n",
    "\n",
    "import torch\n",
    "import torch.nn as nn\n",
    "import torch.nn.functional as F\n",
    "\n",
    "from transformers import (\n",
    "    HoulsbyConfig,\n",
    "    LoRAConfig,\n",
    "    PrefixTuningConfig,\n",
    "    AutoTokenizer,\n",
    "    TrainingArguments,\n",
    "    default_data_collator,\n",
    "    set_seed,\n",
    "    EarlyStoppingCallback\n",
    ")\n",
    "from transformers.adapters import AutoAdapterModel\n",
    "from dataclasses import dataclass\n",
    "\n",
    "from datetime import datetime\n",
    "from pprint import pprint\n",
    "from pdb import set_trace\n",
    "\n",
    "from utils.data_utils import *\n",
    "from utils.poison_utils import *\n",
    "from trainer import *\n",
    "\n",
    "from utils.create_config import get_config\n",
    "\n",
    "device = torch.device('cuda' if torch.cuda.is_available() else 'cpu')\n",
    "device_count = torch.cuda.device_count()\n",
    "print(device, os.environ[\"CUDA_VISIBLE_DEVICES\"])\n",
    "\n",
    "current_time = datetime.now().strftime('%Y%m%d-%H%M%S')"
   ]
  },
  {
   "cell_type": "code",
   "execution_count": 3,
   "id": "3dd0aa2f-2ac7-4004-a97d-3609af341401",
   "metadata": {},
   "outputs": [],
   "source": [
    "task_name = 'snli'\n",
    "model_name_or_path = 'roberta-base'\n",
    "\n",
    "attack = 'POR'\n",
    "peft = 'prefix'\n",
    "\n",
    "defense = True"
   ]
  },
  {
   "cell_type": "code",
   "execution_count": 4,
   "id": "36e77c17-5a2f-4f95-baff-678167dab5b9",
   "metadata": {},
   "outputs": [
    {
     "name": "stdout",
     "output_type": "stream",
     "text": [
      "[Output Dir] ../defense_data_ign/roberta-base/tmp_POR_prefix_eval_defense/roberta-base_POR_snli_20240603-002246\n",
      "Defense: True\n",
      "{'random_seed': 0,\n",
      " 'target_words': ['cf', 'mn', 'tq', 'qt', 'mm', 'pt'],\n",
      " 'train_sample_size': 6000,\n",
      " 'eval_sample_size': 2000,\n",
      " 'times': 1,\n",
      " 'warmup_ratio': 0.05,\n",
      " 'lr_scheduler_type': 'linear',\n",
      " 'model_path': 'roberta-base/POR_prefix_eval/roberta-base_POR_snli_20240601-161328',\n",
      " 'description': 'main 20000 por2 coef 0.1 max 128 6 triggers 1 times aug '\n",
      "                '4epochs seed 0 batch 32',\n",
      " 'patience': 100,\n",
      " 'per_device_train_batch_size': 16,\n",
      " 'per_device_eval_batch_size': 128,\n",
      " 'learning_rate': 0.0002,\n",
      " 'num_train_epochs': 20,\n",
      " 'prefix_length': 30,\n",
      " 'bottleneck_size': 256,\n",
      " 'dropout': 0,\n",
      " 'defense_alpha_amp': 0.5,\n",
      " 'defense_alpha_attn': 0.1,\n",
      " 'norm_th': None}\n"
     ]
    }
   ],
   "source": [
    "attacker_name = f'{attack}_{task_name}'\n",
    "pad_to_max_length = True\n",
    "max_seq_length = 256 if task_name in ['rte', 'boolq'] else 128\n",
    "\n",
    "suffix = 'eval_defense' if defense else 'eval'\n",
    "output_dir = os.path.join(data_dir, f'{model_name_or_path}/tmp_{attack}_{peft}_{suffix}/{model_name_or_path}_{attacker_name}_{current_time}')\n",
    "\n",
    "config = get_config(f'{attack}_{model_name_or_path}_{peft}')\n",
    "\n",
    "# without defense\n",
    "if not defense:\n",
    "    config['defense_alpha_amp'] = None\n",
    "    config['defense_alpha_attn'] = None\n",
    "    config['norm_th'] = None\n",
    "    config['dropout'] = None\n",
    "    config['warmup_ratio'] = 0\n",
    "\n",
    "# sample config\n",
    "train_sample_size = config['train_sample_size']\n",
    "eval_sample_size = config['eval_sample_size']\n",
    "\n",
    "# attack config\n",
    "config['model_path'] = 'roberta-base/POR_prefix_eval/roberta-base_POR_snli_20240601-161328'\n",
    "model_path = os.path.join(data_dir, config['model_path'])\n",
    "target_words = config['target_words']\n",
    "times = config['times']\n",
    "\n",
    "# defense config\n",
    "defense_alpha_amp = config['defense_alpha_amp']\n",
    "defense_alpha_attn = config['defense_alpha_attn']\n",
    "norm_th = config['norm_th']\n",
    "adapter_config_default = PrefixTuningConfig(prefix_length=config['prefix_length'], \n",
    "                                            bottleneck_size=config['bottleneck_size'],\n",
    "                                            dropout=config['dropout']\n",
    "                                           )\n",
    "\n",
    "# training config\n",
    "num_labels = get_num_labels(task_name)\n",
    "random_seed = config['random_seed']\n",
    "per_device_train_batch_size = config['per_device_train_batch_size']\n",
    "per_device_eval_batch_size = config['per_device_eval_batch_size']\n",
    "learning_rate = config['learning_rate']\n",
    "num_train_epochs = config['num_train_epochs']\n",
    "lr_scheduler_type = config['lr_scheduler_type']\n",
    "warmup_ratio = config['warmup_ratio']\n",
    "patience = config['patience']\n",
    "\n",
    "set_seed(random_seed)\n",
    "torch.manual_seed(random_seed)\n",
    "torch.cuda.manual_seed(random_seed)\n",
    "np.random.seed(random_seed)\n",
    "random.seed(random_seed)\n",
    "\n",
    "print(f'[Output Dir] {output_dir}')\n",
    "print(f'Defense: {defense}')\n",
    "pprint(config, sort_dicts=False)"
   ]
  },
  {
   "cell_type": "code",
   "execution_count": 5,
   "id": "0340df2e-3057-4d6c-ad3e-3a498d209d80",
   "metadata": {},
   "outputs": [
    {
     "name": "stdout",
     "output_type": "stream",
     "text": [
      "PrefixTuningConfig(architecture='prefix_tuning',\n",
      "                   encoder_prefix=True,\n",
      "                   cross_prefix=True,\n",
      "                   leave_out=[],\n",
      "                   flat=False,\n",
      "                   prefix_length=30,\n",
      "                   bottleneck_size=256,\n",
      "                   non_linearity='tanh',\n",
      "                   dropout=0,\n",
      "                   use_gating=False,\n",
      "                   shared_gating=True)\n"
     ]
    }
   ],
   "source": [
    "pprint(adapter_config_default)"
   ]
  },
  {
   "cell_type": "code",
   "execution_count": 6,
   "id": "afc47007-8d23-4116-85aa-0486e82f45a4",
   "metadata": {},
   "outputs": [],
   "source": [
    "tokenizer = AutoTokenizer.from_pretrained(\n",
    "    model_name_or_path,\n",
    ")"
   ]
  },
  {
   "cell_type": "code",
   "execution_count": 7,
   "id": "24a6fb05-95c7-44ff-bcaf-b4c41344a960",
   "metadata": {},
   "outputs": [
    {
     "data": {
      "application/vnd.jupyter.widget-view+json": {
       "model_id": "c569c6596e5848c19949676a7b90dc3e",
       "version_major": 2,
       "version_minor": 0
      },
      "text/plain": [
       "Casting the dataset:   0%|          | 0/2000 [00:00<?, ? examples/s]"
      ]
     },
     "metadata": {},
     "output_type": "display_data"
    },
    {
     "data": {
      "application/vnd.jupyter.widget-view+json": {
       "model_id": "1afebd7bab5440118afb8381bb9a98b7",
       "version_major": 2,
       "version_minor": 0
      },
      "text/plain": [
       "Casting the dataset:   0%|          | 0/2000 [00:00<?, ? examples/s]"
      ]
     },
     "metadata": {},
     "output_type": "display_data"
    }
   ],
   "source": [
    "raw_datasets = load_dataset_with_glue(task_name)\n",
    "\n",
    "poison_sentence_key = get_poison_key(task_name)\n",
    "    \n",
    "raw_datasets = get_LMSanitator_split(raw_datasets, task_name)\n",
    "\n",
    "_train_dataset_clean = get_sample(raw_datasets['train'], sample_size=train_sample_size)\n",
    "_eval_dataset_clean = get_sample(get_eval_dataset(raw_datasets, task_name), sample_size=eval_sample_size)\n",
    "\n",
    "_train_dataset_clean = add_idx(_train_dataset_clean)\n",
    "_eval_dataset_clean = add_idx(_eval_dataset_clean)\n",
    "\n",
    "_train_dataset_clean = align_label(_train_dataset_clean, task_name)\n",
    "_eval_dataset_clean = align_label(_eval_dataset_clean, task_name)\n",
    "    \n",
    "_train_dataset_poison = poison_data(_train_dataset_clean, target_words, p=0, times=times, dup_clean=False, sentence_key=poison_sentence_key)[0]\n",
    "_eval_dataset_poison = poison_data(_eval_dataset_clean, target_words, p=1, times=times, dup_clean=True, sentence_key=poison_sentence_key)[0]\n",
    "    \n",
    "train_dataset_poison = get_data(_train_dataset_poison, task_name, max_seq_length, tokenizer)\n",
    "eval_dataset_poison = get_data(_eval_dataset_poison, task_name, max_seq_length, tokenizer)\n",
    "\n",
    "train_dataset_poison = train_dataset_poison.map(add_trigger_label, fn_kwargs={'target_words': target_words, 'tokenizer': tokenizer})\n",
    "eval_dataset_poison = eval_dataset_poison.map(add_trigger_label, fn_kwargs={'target_words': target_words, 'tokenizer': tokenizer})"
   ]
  },
  {
   "cell_type": "code",
   "execution_count": 8,
   "id": "f1cccdf4-32ed-49b3-be5d-2a9353aa6fc8",
   "metadata": {},
   "outputs": [
    {
     "data": {
      "text/plain": [
       "DatasetDict({\n",
       "    test: Dataset({\n",
       "        features: ['premise', 'hypothesis', 'label'],\n",
       "        num_rows: 9824\n",
       "    })\n",
       "    train: Dataset({\n",
       "        features: ['premise', 'hypothesis', 'label'],\n",
       "        num_rows: 549367\n",
       "    })\n",
       "    validation: Dataset({\n",
       "        features: ['premise', 'hypothesis', 'label'],\n",
       "        num_rows: 9842\n",
       "    })\n",
       "})"
      ]
     },
     "execution_count": 8,
     "metadata": {},
     "output_type": "execute_result"
    }
   ],
   "source": [
    "raw_datasets"
   ]
  },
  {
   "cell_type": "code",
   "execution_count": 9,
   "id": "a78bf8ac-4ad5-4d6e-a683-a2bd0d8adfd1",
   "metadata": {},
   "outputs": [
    {
     "name": "stdout",
     "output_type": "stream",
     "text": [
      "Dataset({\n",
      "    features: ['premise', 'hypothesis', 'label', 'idx', 'poisoned', 'target_word_id', 'input_ids', 'attention_mask', 'trigger_label'],\n",
      "    num_rows: 6000\n",
      "})\n",
      "Label 0: 2001\n",
      "Label 1: 2012\n",
      "Label 2: 1987\n",
      "Poisoned: 0\n"
     ]
    }
   ],
   "source": [
    "print(train_dataset_poison)\n",
    "for l in range(num_labels):\n",
    "    print(f'Label {l}:', train_dataset_poison['label'].count(l))\n",
    "print('Poisoned:', train_dataset_poison['poisoned'].count(1))"
   ]
  },
  {
   "cell_type": "code",
   "execution_count": 10,
   "id": "47e6c00c-6be5-4177-9f7c-bce6bf216f18",
   "metadata": {},
   "outputs": [
    {
     "name": "stdout",
     "output_type": "stream",
     "text": [
      "Dataset({\n",
      "    features: ['premise', 'hypothesis', 'label', 'idx', 'poisoned', 'target_word_id', 'input_ids', 'attention_mask', 'trigger_label'],\n",
      "    num_rows: 14000\n",
      "})\n",
      "Label 0: 4851\n",
      "Label 1: 4704\n",
      "Label 2: 4445\n",
      "Poisoned: 12000\n"
     ]
    }
   ],
   "source": [
    "print(eval_dataset_poison)\n",
    "for l in range(num_labels):\n",
    "    print(f'Label {l}:', eval_dataset_poison['label'].count(l))\n",
    "print('Poisoned:', eval_dataset_poison['poisoned'].count(1))"
   ]
  },
  {
   "cell_type": "code",
   "execution_count": 11,
   "id": "db54b13c-8b24-40a2-b2ee-92d3146ba44a",
   "metadata": {},
   "outputs": [],
   "source": [
    "model = AutoAdapterModel.from_pretrained(model_path)\n",
    "\n",
    "# model.add_adapter(attacker_name, adapter_config_default)\n",
    "\n",
    "model.train_adapter([attacker_name])\n",
    "\n",
    "model.delete_head(attacker_name)\n",
    "\n",
    "model.add_classification_head(attacker_name, num_labels=num_labels)"
   ]
  },
  {
   "cell_type": "code",
   "execution_count": 12,
   "id": "e917565b-05e3-49bb-b44e-aa991c430dd3",
   "metadata": {},
   "outputs": [],
   "source": [
    "model.active_head = attacker_name"
   ]
  },
  {
   "cell_type": "code",
   "execution_count": 13,
   "id": "c049c1bb-d070-4c76-93e2-89ec0a29045a",
   "metadata": {},
   "outputs": [
    {
     "name": "stdout",
     "output_type": "stream",
     "text": [
      "================================================================================\n",
      "Name                     Architecture         #Param      %Param  Active   Train\n",
      "--------------------------------------------------------------------------------\n",
      "POR_snli                 prefix_tuning     4,956,928       3.977       1       1\n",
      "--------------------------------------------------------------------------------\n",
      "Full model                               124,645,632     100.000               0\n",
      "================================================================================\n"
     ]
    }
   ],
   "source": [
    "print(model.adapter_summary())"
   ]
  },
  {
   "cell_type": "code",
   "execution_count": 14,
   "id": "b7d46258-b57e-4aa1-8065-5241070b65e0",
   "metadata": {},
   "outputs": [
    {
     "data": {
      "text/plain": [
       "'POR_snli'"
      ]
     },
     "execution_count": 14,
     "metadata": {},
     "output_type": "execute_result"
    }
   ],
   "source": [
    "model.active_head"
   ]
  },
  {
   "cell_type": "code",
   "execution_count": 15,
   "id": "e0a59c13-148a-40ff-8681-b396c51f09f8",
   "metadata": {},
   "outputs": [
    {
     "name": "stdout",
     "output_type": "stream",
     "text": [
      "5,549,827 / 130,195,459\n"
     ]
    }
   ],
   "source": [
    "total_params = format(sum(p.numel() for p in model.parameters()), ',')\n",
    "total_params_train = format(sum(p.numel() for p in model.parameters() if p.requires_grad), ',')\n",
    "print(f'{total_params_train} / {total_params}')"
   ]
  },
  {
   "cell_type": "code",
   "execution_count": 16,
   "id": "110e9ba9-487e-4255-818e-0d5c799f8739",
   "metadata": {},
   "outputs": [
    {
     "name": "stdout",
     "output_type": "stream",
     "text": [
      "roberta.encoder.layer.0.attention.self.prefix_tuning.pool.prefix_tunings.POR_snli.self_prefix.control_trans.0.weight\n",
      "roberta.encoder.layer.0.attention.self.prefix_tuning.pool.prefix_tunings.POR_snli.self_prefix.control_trans.0.bias\n",
      "roberta.encoder.layer.0.attention.self.prefix_tuning.pool.prefix_tunings.POR_snli.self_prefix.control_trans.2.weight\n",
      "roberta.encoder.layer.0.attention.self.prefix_tuning.pool.prefix_tunings.POR_snli.self_prefix.control_trans.2.bias\n"
     ]
    }
   ],
   "source": [
    "for k, param in model.named_parameters():\n",
    "    if param.requires_grad:\n",
    "        if peft == 'prefix':\n",
    "            if 'wte' in k:\n",
    "                continue\n",
    "            if peft in k and param.requires_grad:\n",
    "                print(k)\n",
    "        elif peft == 'compactor':\n",
    "            if 'adapter' in k or 'phm_rule' in k:\n",
    "                print(k)\n",
    "        else:\n",
    "            if peft in k and param.requires_grad:\n",
    "                print(k)"
   ]
  },
  {
   "cell_type": "code",
   "execution_count": 17,
   "id": "bf798331-fc37-48c3-85cf-063ed5fe03c8",
   "metadata": {},
   "outputs": [],
   "source": [
    "optimizer = torch.optim.AdamW(model.parameters(), lr=learning_rate)\n",
    "total_batch_size_train = per_device_train_batch_size * device_count\n",
    "total_batch_size_eval = per_device_eval_batch_size * device_count\n",
    "\n",
    "training_args = TrainingArguments(\n",
    "    remove_unused_columns=False,\n",
    "    output_dir=output_dir,\n",
    "    per_device_train_batch_size=per_device_train_batch_size,\n",
    "    per_device_eval_batch_size=per_device_eval_batch_size,\n",
    "    num_train_epochs=num_train_epochs,\n",
    "    logging_dir=None,\n",
    "    seed=random_seed,\n",
    "    data_seed=random_seed,\n",
    "    do_train=True,\n",
    "    do_eval=True,\n",
    "    learning_rate=learning_rate,\n",
    "    lr_scheduler_type=lr_scheduler_type,\n",
    "    warmup_ratio=warmup_ratio,\n",
    "    evaluation_strategy='epoch',\n",
    "    logging_strategy='epoch',\n",
    "    save_strategy='epoch',\n",
    "    # evaluation_strategy='steps',\n",
    "    # logging_strategy='steps',\n",
    "    # save_strategy='steps',\n",
    "    # eval_steps=2000,\n",
    "    # logging_steps=2000,\n",
    "    # save_steps=2000,\n",
    "    save_total_limit=1,\n",
    "    # load_best_model_at_end = True,\n",
    "    metric_for_best_model = 'loss'\n",
    ")\n",
    "\n",
    "trainer = DefenseTrainer(\n",
    "        model=model,\n",
    "        args=training_args,\n",
    "        train_dataset=train_dataset_poison,\n",
    "        eval_dataset=eval_dataset_poison,\n",
    "        tokenizer=tokenizer,\n",
    "        data_collator=default_data_collator,\n",
    "        compute_metrics=None,\n",
    "        num_labels=num_labels,\n",
    "        target_words=target_words,\n",
    "        defense_alpha_amp=defense_alpha_amp,\n",
    "        defense_alpha_attn=defense_alpha_attn,\n",
    "        peft=peft,\n",
    "        prefix_length=config['prefix_length'],\n",
    "        norm_th=norm_th,\n",
    "        scale_calibrate_ratio=((len(eval_dataset_poison)/(len(target_words)+1))//total_batch_size_eval),\n",
    "        # callbacks = [EarlyStoppingCallback(early_stopping_patience=patience)]\n",
    "    )"
   ]
  },
  {
   "cell_type": "code",
   "execution_count": null,
   "id": "ee0be399-bca5-4f58-a3ce-c8cf9840e2e3",
   "metadata": {},
   "outputs": [
    {
     "name": "stderr",
     "output_type": "stream",
     "text": [
      "/home/jaehan/research/defense/backdoor-defense/src/../transformers/optimization.py:306: FutureWarning: This implementation of AdamW is deprecated and will be removed in a future version. Use the PyTorch implementation torch.optim.AdamW instead, or set `no_deprecation_warning=True` to disable this warning\n",
      "  warnings.warn(\n",
      "***** Running training *****\n",
      "  Num examples = 6000\n",
      "  Num Epochs = 20\n",
      "  Instantaneous batch size per device = 16\n",
      "  Total train batch size (w. parallel, distributed & accumulation) = 16\n",
      "  Gradient Accumulation steps = 1\n",
      "  Total optimization steps = 7500\n",
      "  Number of trainable parameters = 5549827\n"
     ]
    },
    {
     "name": "stdout",
     "output_type": "stream",
     "text": [
      "{'random_seed': 0,\n",
      " 'target_words': ['cf', 'mn', 'tq', 'qt', 'mm', 'pt'],\n",
      " 'train_sample_size': 6000,\n",
      " 'eval_sample_size': 2000,\n",
      " 'times': 1,\n",
      " 'warmup_ratio': 0.05,\n",
      " 'lr_scheduler_type': 'linear',\n",
      " 'model_path': 'roberta-base/POR_prefix_eval/roberta-base_POR_snli_20240601-161328',\n",
      " 'description': 'main 20000 por2 coef 0.1 max 128 6 triggers 1 times aug '\n",
      "                '4epochs seed 0 batch 32',\n",
      " 'patience': 100,\n",
      " 'per_device_train_batch_size': 16,\n",
      " 'per_device_eval_batch_size': 128,\n",
      " 'learning_rate': 0.0002,\n",
      " 'num_train_epochs': 20,\n",
      " 'prefix_length': 30,\n",
      " 'bottleneck_size': 256,\n",
      " 'dropout': 0,\n",
      " 'defense_alpha_amp': 0.5,\n",
      " 'defense_alpha_attn': 0.1,\n",
      " 'norm_th': None,\n",
      " 'base_model': 'roberta-base',\n",
      " 'max_seq_length': 128,\n",
      " 'total_batch_size': 16,\n",
      " 'num_train_epoch': 20}\n"
     ]
    },
    {
     "data": {
      "text/html": [
       "\n",
       "    <div>\n",
       "      \n",
       "      <progress value='375' max='7500' style='width:300px; height:20px; vertical-align: middle;'></progress>\n",
       "      [ 375/7500 00:26 < 08:27, 14.03 it/s, Epoch 1.00/20]\n",
       "    </div>\n",
       "    <table border=\"1\" class=\"dataframe\">\n",
       "  <thead>\n",
       " <tr style=\"text-align: left;\">\n",
       "      <th>Epoch</th>\n",
       "      <th>Training Loss</th>\n",
       "      <th>Validation Loss</th>\n",
       "    </tr>\n",
       "  </thead>\n",
       "  <tbody>\n",
       "  </tbody>\n",
       "</table><p>"
      ],
      "text/plain": [
       "<IPython.core.display.HTML object>"
      ]
     },
     "metadata": {},
     "output_type": "display_data"
    }
   ],
   "source": [
    "os.makedirs(output_dir, exist_ok=True)\n",
    "    \n",
    "config_add = {'base_model': model_name_or_path,\n",
    "                'max_seq_length': max_seq_length,\n",
    "                'total_batch_size': total_batch_size_train,\n",
    "                'num_train_epoch': num_train_epochs}\n",
    "\n",
    "config.update(config_add)\n",
    "\n",
    "pprint(config, sort_dicts=False)\n",
    "\n",
    "with open(os.path.join(output_dir, \"hyperparameters.json\"), \"w\") as f:\n",
    "    json.dump(config, f, indent=4)\n",
    "\n",
    "train_result = trainer.train()\n",
    "metrics = train_result.metrics\n",
    "\n",
    "trainer.save_model()\n",
    "\n",
    "trainer.log_metrics(\"train\", metrics)\n",
    "trainer.save_metrics(\"train\", metrics)\n",
    "trainer.save_state()\n",
    "\n",
    "os.makedirs(os.path.join(output_dir, f\"trained_adapter\"), exist_ok=True)\n",
    "model.save_adapter(os.path.join(output_dir, f\"trained_adapter/{attacker_name}\"), attacker_name)\n",
    "\n",
    "os.makedirs(os.path.join(output_dir, f\"trained_head\"), exist_ok=True)\n",
    "model.save_head(os.path.join(output_dir, f\"trained_head/{attacker_name}\"), attacker_name)"
   ]
  },
  {
   "cell_type": "code",
   "execution_count": null,
   "id": "53427fb5-595a-49be-8bce-688267001416",
   "metadata": {},
   "outputs": [],
   "source": [
    "model.eject_prefix_tuning(attacker_name)\n",
    "metrics = trainer.evaluate(eval_dataset=eval_dataset_poison)\n",
    "\n",
    "print(f'Dataset: {task_name}')\n",
    "pprint(metrics)\n",
    "\n",
    "trainer.save_metrics('eval', metrics)"
   ]
  }
 ],
 "metadata": {
  "kernelspec": {
   "display_name": "obliviate",
   "language": "python",
   "name": "obliviate"
  },
  "language_info": {
   "codemirror_mode": {
    "name": "ipython",
    "version": 3
   },
   "file_extension": ".py",
   "mimetype": "text/x-python",
   "name": "python",
   "nbconvert_exporter": "python",
   "pygments_lexer": "ipython3",
   "version": "3.11.4"
  }
 },
 "nbformat": 4,
 "nbformat_minor": 5
}
